{
  "nbformat": 4,
  "nbformat_minor": 0,
  "metadata": {
    "colab": {
      "provenance": []
    },
    "kernelspec": {
      "name": "python3",
      "display_name": "Python 3"
    },
    "language_info": {
      "name": "python"
    }
  },
  "cells": [
    {
      "cell_type": "code",
      "metadata": {
        "id": "EOjQlKFqKLXw"
      },
      "source": [
        "# Работа с массивами данных\n",
        "import numpy as np\n",
        "\n",
        "# Работа с табличными данными\n",
        "import pandas as pd\n",
        "\n",
        "# Функции-утилиты для работы с категориальными данными\n",
        "from tensorflow.keras import utils\n",
        "\n",
        "# Класс для конструирования последовательной модели нейронной сети\n",
        "from tensorflow.keras.models import Sequential, Model\n",
        "\n",
        "# Основные слои\n",
        "from tensorflow.keras.layers import Dense, Dropout, SpatialDropout1D, BatchNormalization, Embedding, Flatten, Activation, Input, concatenate\n",
        "from tensorflow.keras.layers import SimpleRNN, GRU, LSTM, Bidirectional, Conv1D, MaxPooling1D, GlobalMaxPooling1D\n",
        "\n",
        "# Оптимизаторы\n",
        "from tensorflow.keras.optimizers import Adam, Adadelta, SGD, Adagrad, RMSprop\n",
        "\n",
        "# Токенизатор для преобразование текстов в последовательности\n",
        "from tensorflow.keras.preprocessing.text import Tokenizer\n",
        "\n",
        "# Масштабирование данных\n",
        "from sklearn.preprocessing import StandardScaler\n",
        "\n",
        "# Загрузка датасетов из облака google\n",
        "import gdown\n",
        "\n",
        "# Регулярные выражения\n",
        "import re\n",
        "\n",
        "# Отрисовка графиков\n",
        "import matplotlib.pyplot as plt\n",
        "\n",
        "# Метрики для расчета ошибок\n",
        "from sklearn.metrics import mean_squared_error, mean_absolute_error\n",
        "\n",
        "%matplotlib inline"
      ],
      "execution_count": null,
      "outputs": []
    },
    {
      "cell_type": "code",
      "source": [
        "from google.colab import drive\n",
        "drive.mount('/content/drive')"
      ],
      "metadata": {
        "colab": {
          "base_uri": "https://localhost:8080/"
        },
        "id": "HEWJ1C9gh6RM",
        "outputId": "2e4ff151-5e5e-4f76-fcdc-4440574b8843"
      },
      "execution_count": null,
      "outputs": [
        {
          "output_type": "stream",
          "name": "stdout",
          "text": [
            "Mounted at /content/drive\n"
          ]
        }
      ]
    },
    {
      "cell_type": "code",
      "source": [
        "import pandas as pd\n",
        "\n",
        "# Загрузка датасета\n",
        "df = pd.read_csv('/content/drive/MyDrive/SivilioBel_all_info_ver1.csv', index_col=0)\n",
        "\n",
        "# Вывод первых нескольких строк датасета для проверки\n",
        "print(df.head(1))\n",
        "print(df.shape)"
      ],
      "metadata": {
        "colab": {
          "base_uri": "https://localhost:8080/"
        },
        "id": "CS2Eed06i0jq",
        "outputId": "b530deed-dbf1-4054-8807-c1636b14d9bc"
      },
      "execution_count": null,
      "outputs": [
        {
          "output_type": "stream",
          "name": "stdout",
          "text": [
            "  Тип события Вакансия                      Компания        Кандидат  \\\n",
            "№                                                                      \n",
            "1       Оффер  ML Lead  PersonalInvest - Indata Labs  Бакаев Евгений   \n",
            "\n",
            "  Дата события                                 Примечание события  \\\n",
            "№                                                                   \n",
            "1   01.04.2024  01.04 - на рассмотрение 07.04 - интервью Бакае...   \n",
            "\n",
            "                          Скилы для вакансии Основной навык для вакансии  \\\n",
            "№                                                                          \n",
            "1  AWS, Azure, ETL, Machine Learning, python            Machine Learning   \n",
            "\n",
            "  Зарплата для вакансии Уровень для вакансии  ... Зарплата кандидата  \\\n",
            "№                                             ...                      \n",
            "1    8000-12000 в месяц              Head of  ...                NaN   \n",
            "\n",
            "  Опыт работы кандидата График кандидата Регион кандидата Место кандидата  \\\n",
            "№                                                                           \n",
            "1                  15.0      Полный день          Варшава       Удаленная   \n",
            "\n",
            "                         Профессия кандидата Английский кандидата  \\\n",
            "№                                                                   \n",
            "1  Data scientist, Machine Learning Engineer                   B2   \n",
            "\n",
            "   Примечание кандидата Ссылка на резюме Файл с резюме  \n",
            "№                                                       \n",
            "1                   NaN              NaN           NaN  \n",
            "\n",
            "[1 rows x 26 columns]\n",
            "(6212, 26)\n"
          ]
        }
      ]
    },
    {
      "cell_type": "code",
      "source": [
        "# Замена концов строк на пробелы, удаление символа с кодом 0xA0\n",
        "# обрезка краевых пробелов, приведение к нижнему регистру\n",
        "\n",
        "def purify(x):\n",
        "    if isinstance(x, str):                # Если значение - строка:\n",
        "        x = x.replace('\\n', ' ').replace('\\xa0', '').strip().lower()\n",
        "    return x"
      ],
      "metadata": {
        "id": "5DA0B8Cdr8Mu"
      },
      "execution_count": null,
      "outputs": []
    },
    {
      "cell_type": "code",
      "source": [
        "# Настройка номеров столбцов\n",
        "\n",
        "COL_IVENT_TYPE     = df.columns.get_loc('Тип события')\n",
        "COL_VACANCY     = df.columns.get_loc('Вакансия')\n",
        "COL_PERSON     = df.columns.get_loc('Кандидат')\n",
        "COL_SKILLS     = df.columns.get_loc('Скилы для вакансии')\n",
        "COL_BASE_SKILL     = df.columns.get_loc('Основной навык для вакансии')\n",
        "COL_VAC_SALARY      = df.columns.get_loc('Зарплата для вакансии')\n",
        "COL_LEVEL_VACANCY     = df.columns.get_loc('Уровень для вакансии') #Уровень, требуемый для вакансии\n",
        "# COL_POS_SEEK    = df.columns.get_loc('Ищет работу на должность:')\n",
        "COL_SALARY      = df.columns.get_loc('Зарплата кандидата')\n",
        "COL_POS_PREV    = df.columns.get_loc('Профессия кандидата')\n",
        "COL_CITY        = df.columns.get_loc('Регион кандидата')\n",
        "COL_EMPL        = df.columns.get_loc('Место кандидата') #Удаленная/офис и пр.\n",
        "COL_SCHED       = df.columns.get_loc('График кандидата')\n",
        "COL_EXP         = df.columns.get_loc('Опыт работы кандидата')\n",
        "COL_ENG         = df.columns.get_loc('Английский кандидата')\n",
        "# COL_EDU         = df.columns.get_loc('Образование и ВУЗ')\n",
        "COL_UPDATED     = df.columns.get_loc('Ссылка на резюме')\n",
        "\n",
        "# Вывод первых нескольких строк датасета для проверки\n",
        "print(df.head(5))\n",
        "print(df.shape)"
      ],
      "metadata": {
        "colab": {
          "base_uri": "https://localhost:8080/"
        },
        "id": "aLAMoAhkrW9a",
        "outputId": "4142be5e-861a-45b0-88c0-4bf6261106f9"
      },
      "execution_count": null,
      "outputs": [
        {
          "output_type": "stream",
          "name": "stdout",
          "text": [
            "        Тип события                      Вакансия  \\\n",
            "№                                                   \n",
            "1             Оффер                       ML Lead   \n",
            "2      Трудоустроен                    QA/Support   \n",
            "3      Трудоустроен  digital marketing specialist   \n",
            "4             Отказ                        DevOps   \n",
            "5  Тестовое задание            Frontend Developer   \n",
            "\n",
            "                       Компания         Кандидат Дата события  \\\n",
            "№                                                               \n",
            "1  PersonalInvest - Indata Labs   Бакаев Евгений   01.04.2024   \n",
            "2                 Immersive Fox   Лобань Дмитрий   15.04.2024   \n",
            "3                 Immersive Fox     Куца Татьяна   10.05.2024   \n",
            "4                    SolbegSoft  Мельничук Павел   06.05.2024   \n",
            "5                    SolbegSoft       Попов Олег   03.05.2024   \n",
            "\n",
            "                                  Примечание события  \\\n",
            "№                                                      \n",
            "1  01.04 - на рассмотрение 07.04 - интервью Бакае...   \n",
            "2  14.04 - на рассмотрение 21.04 - интервью 17.05...   \n",
            "3  10/04 - на рассмотрение 10.05 - оффер 13.05. -...   \n",
            "4  29.04.24 рассмотрение . 06.05.24 К сожалению, ...   \n",
            "5          20.04.24 рассм. 03.05.24 скинули тестовое   \n",
            "\n",
            "                                  Скилы для вакансии  \\\n",
            "№                                                      \n",
            "1          AWS, Azure, ETL, Machine Learning, python   \n",
            "2                               Support, Web Testing   \n",
            "3  Internet Marketing, Marketing, Marketing Analysis   \n",
            "4         Azure, Databases, DevOps, Jira, MSSQL, SQL   \n",
            "5  ES5/ES6, Angular, Javascript, React, Redux, Ty...   \n",
            "\n",
            "  Основной навык для вакансии Зарплата для вакансии Уровень для вакансии  ...  \\\n",
            "№                                                                         ...   \n",
            "1            Machine Learning    8000-12000 в месяц              Head of  ...   \n",
            "2        Support, Web Testing     1500-2000 в месяц               Middle  ...   \n",
            "3          Internet Marketing     4500-5000 в месяц               Senior  ...   \n",
            "4                   Databases     2000-2200 в месяц               Middle  ...   \n",
            "5                  Javascript                   NaN               Senior  ...   \n",
            "\n",
            "  Зарплата кандидата Опыт работы кандидата График кандидата Регион кандидата  \\\n",
            "№                                                                              \n",
            "1                NaN                  15.0      Полный день          Варшава   \n",
            "2                NaN                   3.0      Полный день           Другой   \n",
            "3                NaN                  12.0      Полный день          Испания   \n",
            "4  2000-2300 в месяц                   6.0              NaN              NaN   \n",
            "5                NaN                   NaN              NaN              NaN   \n",
            "\n",
            "  Место кандидата                              Профессия кандидата  \\\n",
            "№                                                                    \n",
            "1       Удаленная        Data scientist, Machine Learning Engineer   \n",
            "2       Удаленная  QA, QA automation, Supporter / Customer service   \n",
            "3       Удаленная                                Internet Marketer   \n",
            "4             NaN                                           DevOps   \n",
            "5             NaN                               Frontend developer   \n",
            "\n",
            "  Английский кандидата  Примечание кандидата Ссылка на резюме Файл с резюме  \n",
            "№                                                                            \n",
            "1                   B2                   NaN              NaN           NaN  \n",
            "2                   C1                   NaN              NaN           NaN  \n",
            "3                   C1                   NaN              NaN           NaN  \n",
            "4                   A2                   NaN              NaN           NaN  \n",
            "5                  NaN                   NaN              NaN           NaN  \n",
            "\n",
            "[5 rows x 26 columns]\n",
            "(6212, 26)\n"
          ]
        }
      ]
    },
    {
      "cell_type": "code",
      "source": [
        "from tabulate import tabulate\n",
        "\n",
        "n = 2  # Индекс в таблице резюме\n",
        "data = []\n",
        "for i in range(df.columns.shape[0]):  # Вывод значения каждого столбца\n",
        "    data.append([f'\\033[91m{df.columns[i]}:\\033[0m', df.values[n][i]])\n",
        "\n",
        "print(tabulate(data, tablefmt=\"grid\"))"
      ],
      "metadata": {
        "colab": {
          "base_uri": "https://localhost:8080/"
        },
        "id": "sb80iTInSQqH",
        "outputId": "25675676-d3e2-40ba-9c62-82e2a2e4d55e"
      },
      "execution_count": null,
      "outputs": [
        {
          "output_type": "stream",
          "name": "stdout",
          "text": [
            "+------------------------------+----------------------------------------------------------------------+\n",
            "| \u001b[91mТип события:\u001b[0m                 | Трудоустроен                                                         |\n",
            "+------------------------------+----------------------------------------------------------------------+\n",
            "| \u001b[91mВакансия:\u001b[0m                    | digital marketing specialist                                         |\n",
            "+------------------------------+----------------------------------------------------------------------+\n",
            "| \u001b[91mКомпания:\u001b[0m                    | Immersive Fox                                                        |\n",
            "+------------------------------+----------------------------------------------------------------------+\n",
            "| \u001b[91mКандидат:\u001b[0m                    | Куца Татьяна                                                         |\n",
            "+------------------------------+----------------------------------------------------------------------+\n",
            "| \u001b[91mДата события:\u001b[0m                | 10.05.2024                                                           |\n",
            "+------------------------------+----------------------------------------------------------------------+\n",
            "| \u001b[91mПримечание события:\u001b[0m          | 10/04 - на рассмотрение 10.05 - оффер 13.05. - вышла на работу       |\n",
            "+------------------------------+----------------------------------------------------------------------+\n",
            "| \u001b[91mСкилы для вакансии:\u001b[0m          | Internet Marketing, Marketing, Marketing Analysis                    |\n",
            "+------------------------------+----------------------------------------------------------------------+\n",
            "| \u001b[91mОсновной навык для вакансии:\u001b[0m | Internet Marketing                                                   |\n",
            "+------------------------------+----------------------------------------------------------------------+\n",
            "| \u001b[91mЗарплата для вакансии:\u001b[0m       | 4500-5000 в месяц                                                    |\n",
            "+------------------------------+----------------------------------------------------------------------+\n",
            "| \u001b[91mУровень для вакансии:\u001b[0m        | Senior                                                               |\n",
            "+------------------------------+----------------------------------------------------------------------+\n",
            "| \u001b[91mАнглийский для вакансии:\u001b[0m     | C1                                                                   |\n",
            "+------------------------------+----------------------------------------------------------------------+\n",
            "| \u001b[91mМесто для вакансии:\u001b[0m          | Удаленная                                                            |\n",
            "+------------------------------+----------------------------------------------------------------------+\n",
            "| \u001b[91mГрафик для вакансии:\u001b[0m         | Полный день                                                          |\n",
            "+------------------------------+----------------------------------------------------------------------+\n",
            "| \u001b[91mУровень кандидата:\u001b[0m           | Lead                                                                 |\n",
            "+------------------------------+----------------------------------------------------------------------+\n",
            "| \u001b[91mСкилы кандидата:\u001b[0m             | Internet Marketing, Marketing, Marketing Analysis, Product Marketing |\n",
            "+------------------------------+----------------------------------------------------------------------+\n",
            "| \u001b[91mОсновной навык кандидата:\u001b[0m    | Internet Marketing                                                   |\n",
            "+------------------------------+----------------------------------------------------------------------+\n",
            "| \u001b[91mЗарплата кандидата:\u001b[0m          | nan                                                                  |\n",
            "+------------------------------+----------------------------------------------------------------------+\n",
            "| \u001b[91mОпыт работы кандидата:\u001b[0m       | 12.0                                                                 |\n",
            "+------------------------------+----------------------------------------------------------------------+\n",
            "| \u001b[91mГрафик кандидата:\u001b[0m            | Полный день                                                          |\n",
            "+------------------------------+----------------------------------------------------------------------+\n",
            "| \u001b[91mРегион кандидата:\u001b[0m            | Испания                                                              |\n",
            "+------------------------------+----------------------------------------------------------------------+\n",
            "| \u001b[91mМесто кандидата:\u001b[0m             | Удаленная                                                            |\n",
            "+------------------------------+----------------------------------------------------------------------+\n",
            "| \u001b[91mПрофессия кандидата:\u001b[0m         | Internet Marketer                                                    |\n",
            "+------------------------------+----------------------------------------------------------------------+\n",
            "| \u001b[91mАнглийский кандидата:\u001b[0m        | C1                                                                   |\n",
            "+------------------------------+----------------------------------------------------------------------+\n",
            "| \u001b[91mПримечание кандидата:\u001b[0m        | nan                                                                  |\n",
            "+------------------------------+----------------------------------------------------------------------+\n",
            "| \u001b[91mСсылка на резюме:\u001b[0m            | nan                                                                  |\n",
            "+------------------------------+----------------------------------------------------------------------+\n",
            "| \u001b[91mФайл с резюме:\u001b[0m               | nan                                                                  |\n",
            "+------------------------------+----------------------------------------------------------------------+\n"
          ]
        }
      ]
    },
    {
      "cell_type": "code",
      "source": [
        "# Проведем анализ датасета\n",
        "df.shape # Кол-во строк и столбцов в датасете\n",
        "df.count() # Кол-во непустых записей в каждом из столбцов\n",
        "df.dtypes # Тип данных в каждом из столбцов\n",
        "df.info() # Саммари по датасету"
      ],
      "metadata": {
        "colab": {
          "base_uri": "https://localhost:8080/"
        },
        "id": "v_82-omNym02",
        "outputId": "863e0719-a4a0-45ab-faed-b5054b00d70e"
      },
      "execution_count": null,
      "outputs": [
        {
          "output_type": "stream",
          "name": "stdout",
          "text": [
            "<class 'pandas.core.frame.DataFrame'>\n",
            "Index: 6212 entries, 1 to 6212\n",
            "Data columns (total 26 columns):\n",
            " #   Column                       Non-Null Count  Dtype  \n",
            "---  ------                       --------------  -----  \n",
            " 0   Тип события                  6212 non-null   object \n",
            " 1   Вакансия                     6212 non-null   object \n",
            " 2   Компания                     6212 non-null   object \n",
            " 3   Кандидат                     6212 non-null   object \n",
            " 4   Дата события                 6179 non-null   object \n",
            " 5   Примечание события           6153 non-null   object \n",
            " 6   Скилы для вакансии           6157 non-null   object \n",
            " 7   Основной навык для вакансии  5338 non-null   object \n",
            " 8   Зарплата для вакансии        5363 non-null   object \n",
            " 9   Уровень для вакансии         6060 non-null   object \n",
            " 10  Английский для вакансии      5768 non-null   object \n",
            " 11  Место для вакансии           6119 non-null   object \n",
            " 12  График для вакансии          6123 non-null   object \n",
            " 13  Уровень кандидата            6198 non-null   object \n",
            " 14  Скилы кандидата              5887 non-null   object \n",
            " 15  Основной навык кандидата     4987 non-null   object \n",
            " 16  Зарплата кандидата           2452 non-null   object \n",
            " 17  Опыт работы кандидата        6027 non-null   float64\n",
            " 18  График кандидата             5502 non-null   object \n",
            " 19  Регион кандидата             5894 non-null   object \n",
            " 20  Место кандидата              5743 non-null   object \n",
            " 21  Профессия кандидата          6090 non-null   object \n",
            " 22  Английский кандидата         5704 non-null   object \n",
            " 23  Примечание кандидата         33 non-null     object \n",
            " 24  Ссылка на резюме             5814 non-null   object \n",
            " 25  Файл с резюме                5814 non-null   object \n",
            "dtypes: float64(1), object(25)\n",
            "memory usage: 1.3+ MB\n"
          ]
        }
      ]
    },
    {
      "cell_type": "code",
      "source": [
        "df.drop(['Примечание кандидата', 'Ссылка на резюме'], axis=1, inplace=True)"
      ],
      "metadata": {
        "id": "hRqm49T31kW_"
      },
      "execution_count": null,
      "outputs": []
    },
    {
      "cell_type": "code",
      "source": [
        "df.info()\n"
      ],
      "metadata": {
        "colab": {
          "base_uri": "https://localhost:8080/"
        },
        "id": "1Uo9qpol2yr3",
        "outputId": "848a694b-434c-4be2-cde6-d44e055dc93f"
      },
      "execution_count": null,
      "outputs": [
        {
          "output_type": "stream",
          "name": "stdout",
          "text": [
            "<class 'pandas.core.frame.DataFrame'>\n",
            "Index: 6212 entries, 1 to 6212\n",
            "Data columns (total 24 columns):\n",
            " #   Column                       Non-Null Count  Dtype  \n",
            "---  ------                       --------------  -----  \n",
            " 0   Тип события                  6212 non-null   object \n",
            " 1   Вакансия                     6212 non-null   object \n",
            " 2   Компания                     6212 non-null   object \n",
            " 3   Кандидат                     6212 non-null   object \n",
            " 4   Дата события                 6179 non-null   object \n",
            " 5   Примечание события           6153 non-null   object \n",
            " 6   Скилы для вакансии           6157 non-null   object \n",
            " 7   Основной навык для вакансии  5338 non-null   object \n",
            " 8   Зарплата для вакансии        5363 non-null   object \n",
            " 9   Уровень для вакансии         6060 non-null   object \n",
            " 10  Английский для вакансии      5768 non-null   object \n",
            " 11  Место для вакансии           6119 non-null   object \n",
            " 12  График для вакансии          6123 non-null   object \n",
            " 13  Уровень кандидата            6198 non-null   object \n",
            " 14  Скилы кандидата              5887 non-null   object \n",
            " 15  Основной навык кандидата     4987 non-null   object \n",
            " 16  Зарплата кандидата           2452 non-null   object \n",
            " 17  Опыт работы кандидата        6027 non-null   float64\n",
            " 18  График кандидата             5502 non-null   object \n",
            " 19  Регион кандидата             5894 non-null   object \n",
            " 20  Место кандидата              5743 non-null   object \n",
            " 21  Профессия кандидата          6090 non-null   object \n",
            " 22  Английский кандидата         5704 non-null   object \n",
            " 23  Файл с резюме                5814 non-null   object \n",
            "dtypes: float64(1), object(23)\n",
            "memory usage: 1.2+ MB\n"
          ]
        }
      ]
    }
  ]
}